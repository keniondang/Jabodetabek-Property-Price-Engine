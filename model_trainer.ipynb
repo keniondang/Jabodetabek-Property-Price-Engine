{
 "cells": [
  {
   "cell_type": "markdown",
   "id": "657869a7",
   "metadata": {},
   "source": [
    "# Property Price Prediction - Model Training\n",
    "\n",
    "This notebook takes the cleaned property data, prepares it for machine learning, trains a RandomForestRegressor model, evaluates its performance, and saves the final trained model for use in our web application."
   ]
  },
  {
   "cell_type": "code",
   "execution_count": 17,
   "id": "411d4c46",
   "metadata": {},
   "outputs": [
    {
     "name": "stdout",
     "output_type": "stream",
     "text": [
      "Libraries imported successfully.\n"
     ]
    }
   ],
   "source": [
    "import pandas as pd\n",
    "from sklearn.model_selection import train_test_split\n",
    "from sklearn.ensemble import RandomForestRegressor\n",
    "from sklearn.metrics import mean_absolute_error\n",
    "import joblib\n",
    "\n",
    "print(\"Libraries imported successfully.\")"
   ]
  },
  {
   "cell_type": "markdown",
   "id": "d766659a",
   "metadata": {},
   "source": [
    "## Step 1: Load the Cleaned Data\n",
    "We start by loading the `properti_data_cleaned.csv` file created by our preprocessing notebook."
   ]
  },
  {
   "cell_type": "code",
   "execution_count": 18,
   "id": "6d418fc7",
   "metadata": {},
   "outputs": [
    {
     "name": "stdout",
     "output_type": "stream",
     "text": [
      "Successfully loaded 'properti_data_cleaned.csv'.\n",
      "The dataset contains 39888 rows.\n"
     ]
    },
    {
     "data": {
      "text/html": [
       "<div>\n",
       "<style scoped>\n",
       "    .dataframe tbody tr th:only-of-type {\n",
       "        vertical-align: middle;\n",
       "    }\n",
       "\n",
       "    .dataframe tbody tr th {\n",
       "        vertical-align: top;\n",
       "    }\n",
       "\n",
       "    .dataframe thead th {\n",
       "        text-align: right;\n",
       "    }\n",
       "</style>\n",
       "<table border=\"1\" class=\"dataframe\">\n",
       "  <thead>\n",
       "    <tr style=\"text-align: right;\">\n",
       "      <th></th>\n",
       "      <th>City</th>\n",
       "      <th>Bedrooms</th>\n",
       "      <th>Building Area (m²)</th>\n",
       "      <th>Land Area (m²)</th>\n",
       "      <th>Price</th>\n",
       "    </tr>\n",
       "  </thead>\n",
       "  <tbody>\n",
       "    <tr>\n",
       "      <th>0</th>\n",
       "      <td>tangerang</td>\n",
       "      <td>2</td>\n",
       "      <td>68</td>\n",
       "      <td>130</td>\n",
       "      <td>2300000000</td>\n",
       "    </tr>\n",
       "    <tr>\n",
       "      <th>1</th>\n",
       "      <td>tangerang</td>\n",
       "      <td>5</td>\n",
       "      <td>192</td>\n",
       "      <td>128</td>\n",
       "      <td>4200000000</td>\n",
       "    </tr>\n",
       "    <tr>\n",
       "      <th>2</th>\n",
       "      <td>tangerang</td>\n",
       "      <td>3</td>\n",
       "      <td>94</td>\n",
       "      <td>158</td>\n",
       "      <td>2800000000</td>\n",
       "    </tr>\n",
       "    <tr>\n",
       "      <th>3</th>\n",
       "      <td>tangerang</td>\n",
       "      <td>3</td>\n",
       "      <td>125</td>\n",
       "      <td>144</td>\n",
       "      <td>2800000000</td>\n",
       "    </tr>\n",
       "    <tr>\n",
       "      <th>4</th>\n",
       "      <td>tangerang</td>\n",
       "      <td>4</td>\n",
       "      <td>325</td>\n",
       "      <td>270</td>\n",
       "      <td>7500000000</td>\n",
       "    </tr>\n",
       "  </tbody>\n",
       "</table>\n",
       "</div>"
      ],
      "text/plain": [
       "        City  Bedrooms  Building Area (m²)  Land Area (m²)       Price\n",
       "0  tangerang         2                  68             130  2300000000\n",
       "1  tangerang         5                 192             128  4200000000\n",
       "2  tangerang         3                  94             158  2800000000\n",
       "3  tangerang         3                 125             144  2800000000\n",
       "4  tangerang         4                 325             270  7500000000"
      ]
     },
     "metadata": {},
     "output_type": "display_data"
    }
   ],
   "source": [
    "try:\n",
    "    df = pd.read_csv('properti_data_cleaned.csv')\n",
    "    print(\"Successfully loaded 'properti_data_cleaned.csv'.\")\n",
    "    print(f\"The dataset contains {df.shape[0]} rows.\")\n",
    "    display(df.head())\n",
    "except FileNotFoundError:\n",
    "    print(\"❌ Error: 'properti_data_cleaned.csv' not found. Please run the preprocessing notebook first.\")"
   ]
  },
  {
   "cell_type": "markdown",
   "id": "1d131f7b",
   "metadata": {},
   "source": [
    "## Step 2: Prepare Data for Modeling (Feature Engineering)\n",
    "Machine learning models require all input features to be numerical. The `City` column is categorical (text), so we need to convert it into a numerical format using a technique called **One-Hot Encoding**.\n",
    "\n",
    "This creates a new binary (0 or 1) column for each city."
   ]
  },
  {
   "cell_type": "code",
   "execution_count": 19,
   "id": "99c16872",
   "metadata": {},
   "outputs": [
    {
     "name": "stdout",
     "output_type": "stream",
     "text": [
      "Performing one-hot encoding on the 'City' column...\n",
      "Features and target variable created.\n",
      "Number of features: 9\n"
     ]
    },
    {
     "data": {
      "text/html": [
       "<div>\n",
       "<style scoped>\n",
       "    .dataframe tbody tr th:only-of-type {\n",
       "        vertical-align: middle;\n",
       "    }\n",
       "\n",
       "    .dataframe tbody tr th {\n",
       "        vertical-align: top;\n",
       "    }\n",
       "\n",
       "    .dataframe thead th {\n",
       "        text-align: right;\n",
       "    }\n",
       "</style>\n",
       "<table border=\"1\" class=\"dataframe\">\n",
       "  <thead>\n",
       "    <tr style=\"text-align: right;\">\n",
       "      <th></th>\n",
       "      <th>Bedrooms</th>\n",
       "      <th>Building Area (m²)</th>\n",
       "      <th>Land Area (m²)</th>\n",
       "      <th>City_bekasi</th>\n",
       "      <th>City_bogor</th>\n",
       "      <th>City_depok</th>\n",
       "      <th>City_jakarta</th>\n",
       "      <th>City_other</th>\n",
       "      <th>City_tangerang</th>\n",
       "    </tr>\n",
       "  </thead>\n",
       "  <tbody>\n",
       "    <tr>\n",
       "      <th>0</th>\n",
       "      <td>2</td>\n",
       "      <td>68</td>\n",
       "      <td>130</td>\n",
       "      <td>False</td>\n",
       "      <td>False</td>\n",
       "      <td>False</td>\n",
       "      <td>False</td>\n",
       "      <td>False</td>\n",
       "      <td>True</td>\n",
       "    </tr>\n",
       "    <tr>\n",
       "      <th>1</th>\n",
       "      <td>5</td>\n",
       "      <td>192</td>\n",
       "      <td>128</td>\n",
       "      <td>False</td>\n",
       "      <td>False</td>\n",
       "      <td>False</td>\n",
       "      <td>False</td>\n",
       "      <td>False</td>\n",
       "      <td>True</td>\n",
       "    </tr>\n",
       "    <tr>\n",
       "      <th>2</th>\n",
       "      <td>3</td>\n",
       "      <td>94</td>\n",
       "      <td>158</td>\n",
       "      <td>False</td>\n",
       "      <td>False</td>\n",
       "      <td>False</td>\n",
       "      <td>False</td>\n",
       "      <td>False</td>\n",
       "      <td>True</td>\n",
       "    </tr>\n",
       "    <tr>\n",
       "      <th>3</th>\n",
       "      <td>3</td>\n",
       "      <td>125</td>\n",
       "      <td>144</td>\n",
       "      <td>False</td>\n",
       "      <td>False</td>\n",
       "      <td>False</td>\n",
       "      <td>False</td>\n",
       "      <td>False</td>\n",
       "      <td>True</td>\n",
       "    </tr>\n",
       "    <tr>\n",
       "      <th>4</th>\n",
       "      <td>4</td>\n",
       "      <td>325</td>\n",
       "      <td>270</td>\n",
       "      <td>False</td>\n",
       "      <td>False</td>\n",
       "      <td>False</td>\n",
       "      <td>False</td>\n",
       "      <td>False</td>\n",
       "      <td>True</td>\n",
       "    </tr>\n",
       "  </tbody>\n",
       "</table>\n",
       "</div>"
      ],
      "text/plain": [
       "   Bedrooms  Building Area (m²)  Land Area (m²)  City_bekasi  City_bogor  \\\n",
       "0         2                  68             130        False       False   \n",
       "1         5                 192             128        False       False   \n",
       "2         3                  94             158        False       False   \n",
       "3         3                 125             144        False       False   \n",
       "4         4                 325             270        False       False   \n",
       "\n",
       "   City_depok  City_jakarta  City_other  City_tangerang  \n",
       "0       False         False       False            True  \n",
       "1       False         False       False            True  \n",
       "2       False         False       False            True  \n",
       "3       False         False       False            True  \n",
       "4       False         False       False            True  "
      ]
     },
     "metadata": {},
     "output_type": "display_data"
    }
   ],
   "source": [
    "print(\"Performing one-hot encoding on the 'City' column...\")\n",
    "dummies = pd.get_dummies(df['City'], prefix='City')\n",
    "df_model = pd.concat([df, dummies], axis=1)\n",
    "\n",
    "# Define our target (what we want to predict) and our features (what the model uses to predict)\n",
    "target = 'Price'\n",
    "features = ['Bedrooms', 'Building Area (m²)', 'Land Area (m²)'] + list(dummies.columns)\n",
    "\n",
    "X = df_model[features]\n",
    "y = df_model[target]\n",
    "\n",
    "print(\"Features and target variable created.\")\n",
    "print(f\"Number of features: {len(features)}\")\n",
    "display(X.head())"
   ]
  },
  {
   "cell_type": "markdown",
   "id": "a82a17c7",
   "metadata": {},
   "source": [
    "## Step 3: Split Data into Training and Testing Sets\n",
    "We split our data into two parts:\n",
    "- **Training Set (80%):** The model learns the patterns from this data.\n",
    "- **Testing Set (20%):** We use this unseen data to evaluate how well the model performs."
   ]
  },
  {
   "cell_type": "code",
   "execution_count": 20,
   "id": "edee2261",
   "metadata": {},
   "outputs": [
    {
     "name": "stdout",
     "output_type": "stream",
     "text": [
      "Data successfully split:\n",
      "- Training samples: 31910\n",
      "- Testing samples:  7978\n"
     ]
    }
   ],
   "source": [
    "X_train, X_test, y_train, y_test = train_test_split(X, y, test_size=0.2, random_state=42)\n",
    "\n",
    "print(f\"Data successfully split:\")\n",
    "print(f\"- Training samples: {len(X_train)}\")\n",
    "print(f\"- Testing samples:  {len(X_test)}\")"
   ]
  },
  {
   "cell_type": "markdown",
   "id": "45fe8b5d",
   "metadata": {},
   "source": [
    "## Step 4: Train the RandomForestRegressor Model\n",
    "Now we initialize our model and train it using the training data."
   ]
  },
  {
   "cell_type": "code",
   "execution_count": 21,
   "id": "a4d46c23",
   "metadata": {},
   "outputs": [
    {
     "name": "stdout",
     "output_type": "stream",
     "text": [
      "Training the RandomForestRegressor model...\n",
      "Model training complete.\n"
     ]
    }
   ],
   "source": [
    "print(\"Training the RandomForestRegressor model...\")\n",
    "\n",
    "# n_estimators=100 means the model is an ensemble of 100 decision trees.\n",
    "# n_jobs=-1 uses all available CPU cores to speed up training.\n",
    "model = RandomForestRegressor(n_estimators=100, random_state=42, n_jobs=-1)\n",
    "model.fit(X_train, y_train)\n",
    "\n",
    "print(\"Model training complete.\")"
   ]
  },
  {
   "cell_type": "markdown",
   "id": "95ba86be",
   "metadata": {},
   "source": [
    "## Step 5: Evaluate Model Performance\n",
    "We use the trained model to make predictions on the unseen test data and measure its accuracy using the **Mean Absolute Error (MAE)**. The MAE tells us the average amount (in Rupiah) that the model's predictions are off by."
   ]
  },
  {
   "cell_type": "code",
   "execution_count": 22,
   "id": "335a23b6",
   "metadata": {},
   "outputs": [
    {
     "name": "stdout",
     "output_type": "stream",
     "text": [
      "Mean Absolute Error (MAE) on Test Set: Rp 860,421,280\n"
     ]
    }
   ],
   "source": [
    "predictions = model.predict(X_test)\n",
    "mae = mean_absolute_error(y_test, predictions)\n",
    "\n",
    "print(f\"Mean Absolute Error (MAE) on Test Set: Rp {mae:,.0f}\")"
   ]
  },
  {
   "cell_type": "markdown",
   "id": "d19a2e4f",
   "metadata": {},
   "source": [
    "## Step 6: Save the Final Model\n",
    "Finally, we save the trained model and the list of feature columns it expects into a single `.pkl` file. This file will be loaded by our Streamlit web application."
   ]
  },
  {
   "cell_type": "code",
   "execution_count": 23,
   "id": "816cade3",
   "metadata": {},
   "outputs": [
    {
     "name": "stdout",
     "output_type": "stream",
     "text": [
      "Model and feature columns successfully saved to 'property_price_predictor.pkl'.\n"
     ]
    }
   ],
   "source": [
    "model_data = {\n",
    "    'model': model,\n",
    "    'columns': features\n",
    "}\n",
    "\n",
    "joblib.dump(model_data, 'property_price_predictor.pkl')\n",
    "\n",
    "print(\"Model and feature columns successfully saved to 'property_price_predictor.pkl'.\")"
   ]
  }
 ],
 "metadata": {
  "kernelspec": {
   "display_name": "base",
   "language": "python",
   "name": "python3"
  },
  "language_info": {
   "codemirror_mode": {
    "name": "ipython",
    "version": 3
   },
   "file_extension": ".py",
   "mimetype": "text/x-python",
   "name": "python",
   "nbconvert_exporter": "python",
   "pygments_lexer": "ipython3",
   "version": "3.12.9"
  }
 },
 "nbformat": 4,
 "nbformat_minor": 5
}
